{
 "cells": [
  {
   "cell_type": "markdown",
   "metadata": {
    "id": "dRQU9gbaH-di"
   },
   "source": [
    "# Libreries"
   ]
  },
  {
   "cell_type": "code",
   "execution_count": 1,
   "metadata": {
    "id": "lO6fG4TFH0Am"
   },
   "outputs": [],
   "source": [
    "import tensorflow as tf\n",
    "from tensorflow.keras.datasets import mnist, fashion_mnist, cifar10\n",
    "from tensorflow.keras.layers import Layer, Conv2D, AveragePooling2D, Flatten, Dense, Softmax, ReLU\n",
    "from tensorflow.keras.utils import to_categorical\n",
    "from tensorflow.keras.models import Sequential\n",
    "from tensorflow.keras.optimizers import Adam\n",
    "import matplotlib.pyplot as plt\n",
    "import numpy as np\n",
    "from scipy import ndimage\n",
    "from sklearn.model_selection import train_test_split\n",
    "from scipy import signal\n",
    "from GDN import *"
   ]
  },
  {
   "cell_type": "markdown",
   "metadata": {
    "id": "TFjHPOUJG_7B"
   },
   "source": [
    "## MNIST"
   ]
  },
  {
   "cell_type": "code",
   "execution_count": 3,
   "metadata": {
    "colab": {
     "base_uri": "https://localhost:8080/"
    },
    "id": "f_9uOPe8IQrW",
    "outputId": "ca95256e-f3d7-43cb-95c0-2e89a799ae11"
   },
   "outputs": [],
   "source": [
    "# Download mnist data and split into train and test sets\n",
    "(x_train_mnist, y_train_mnist), (x_test_mnist, y_test_mnist) = mnist.load_data()"
   ]
  },
  {
   "cell_type": "code",
   "execution_count": 4,
   "metadata": {
    "colab": {
     "base_uri": "https://localhost:8080/"
    },
    "id": "YZNX-NjFIf2G",
    "outputId": "d9b70471-4263-4928-db2c-d931677ca4c6"
   },
   "outputs": [
    {
     "name": "stdout",
     "output_type": "stream",
     "text": [
      "(60000, 28, 28, 1)\n"
     ]
    }
   ],
   "source": [
    "# Normalize and reshape\n",
    "x_train_mnist = x_train_mnist/255.\n",
    "x_test_mnist = x_test_mnist/255.\n",
    "\n",
    "x_train_mnist = x_train_mnist.reshape(60000, 28, 28, 1)\n",
    "x_test_mnist = x_test_mnist.reshape(10000, 28, 28, 1)\n",
    "\n",
    "print(x_train_mnist.shape)"
   ]
  },
  {
   "cell_type": "code",
   "execution_count": 5,
   "metadata": {
    "colab": {
     "base_uri": "https://localhost:8080/"
    },
    "id": "VgL4D0ArItPd",
    "outputId": "7accb65d-cf49-4626-f80d-2c694b01ebda"
   },
   "outputs": [
    {
     "name": "stdout",
     "output_type": "stream",
     "text": [
      "Model: \"sequential\"\n",
      "_________________________________________________________________\n",
      "Layer (type)                 Output Shape              Param #   \n",
      "=================================================================\n",
      "gdn (GDN)                    (None, 28, 28, 1)         12        \n",
      "=================================================================\n",
      "Total params: 12\n",
      "Trainable params: 12\n",
      "Non-trainable params: 0\n",
      "_________________________________________________________________\n"
     ]
    }
   ],
   "source": [
    "# Model with GDN\n",
    "model = Sequential()\n",
    "model.add(GDN(input_shape = x_train_mnist.shape[1:4]))\n",
    "\n",
    "model.compile(loss = 'categorical_crossentropy', optimizer = 'Adam', metrics = ['accuracy'])\n",
    "\n",
    "model.summary()"
   ]
  },
  {
   "cell_type": "code",
   "execution_count": 6,
   "metadata": {
    "colab": {
     "base_uri": "https://localhost:8080/"
    },
    "id": "5OeEba_pLRDA",
    "outputId": "157fa51f-2c41-40c5-90b4-8c0afa0377d7"
   },
   "outputs": [
    {
     "data": {
      "text/plain": [
       "[array([1.], dtype=float32),\n",
       " array([1.], dtype=float32),\n",
       " array([1.], dtype=float32),\n",
       " array([[[[0.]],\n",
       " \n",
       "         [[0.]],\n",
       " \n",
       "         [[0.]]],\n",
       " \n",
       " \n",
       "        [[[0.]],\n",
       " \n",
       "         [[0.]],\n",
       " \n",
       "         [[0.]]],\n",
       " \n",
       " \n",
       "        [[[0.]],\n",
       " \n",
       "         [[0.]],\n",
       " \n",
       "         [[0.]]]], dtype=float32)]"
      ]
     },
     "execution_count": 6,
     "metadata": {},
     "output_type": "execute_result"
    }
   ],
   "source": [
    "# Check model weights\n",
    "model.get_weights()"
   ]
  },
  {
   "cell_type": "code",
   "execution_count": 7,
   "metadata": {
    "colab": {
     "base_uri": "https://localhost:8080/"
    },
    "id": "HWuj9626IzDs",
    "outputId": "2108243d-1e47-45c3-9107-6fd1d51e48b9"
   },
   "outputs": [
    {
     "name": "stdout",
     "output_type": "stream",
     "text": [
      "(60000, 28, 28, 1)\n"
     ]
    }
   ],
   "source": [
    "# Apply model\n",
    "x_train_mnist_out = model.predict(x_train_mnist)\n",
    "print(x_train_mnist_out.shape)"
   ]
  },
  {
   "cell_type": "code",
   "execution_count": 8,
   "metadata": {
    "colab": {
     "base_uri": "https://localhost:8080/"
    },
    "id": "EpahS8SdJcIZ",
    "outputId": "85d131a8-d840-4924-851f-86de5b5ed9b5"
   },
   "outputs": [
    {
     "name": "stdout",
     "output_type": "stream",
     "text": [
      "1.0 1.0\n"
     ]
    }
   ],
   "source": [
    "print(np.max(x_train_mnist_out[0]), np.max(x_train_mnist[0]))"
   ]
  },
  {
   "cell_type": "code",
   "execution_count": 9,
   "metadata": {
    "colab": {
     "base_uri": "https://localhost:8080/",
     "height": 761
    },
    "id": "TY7nvc4aJF5X",
    "outputId": "521b5f9f-5ada-4b5e-f396-4b5ca59a4c33"
   },
   "outputs": [
    {
     "data": {
      "image/png": "[encoded data removed]",
      "text/plain": [
       "<Figure size 432x288 with 3 Axes>"
      ]
     },
     "metadata": {
      "needs_background": "light"
     },
     "output_type": "display_data"
    }
   ],
   "source": [
    "# Visualize model results\n",
    "plt.subplot(1,3,1)\n",
    "plt.imshow(tf.squeeze(x_train_mnist[0]), cmap = 'gray', vmin = 0, vmax = 1)\n",
    "plt.axis('off')\n",
    "plt.subplot(1,3,2)\n",
    "plt.imshow(tf.squeeze(x_train_mnist_out[0]), cmap = 'gray', vmin = 0, vmax = 1)\n",
    "plt.axis('off')\n",
    "plt.subplot(1,3,3)\n",
    "plt.imshow(tf.squeeze(x_train_mnist_out[0] - x_train_mnist[0]), cmap = 'gray', vmin = 0, vmax = 1)\n",
    "plt.axis('off')\n",
    "plt.show()"
   ]
  },
  {
   "cell_type": "code",
   "execution_count": 16,
   "metadata": {
    "id": "mblgpv-rKZ6G"
   },
   "outputs": [
    {
     "name": "stdout",
     "output_type": "stream",
     "text": [
      "(28, 28, 1)\n",
      "(28, 28, 1)\n",
      "(28, 28, 1)\n",
      "(28, 28, 1)\n",
      "(28, 28, 1)\n",
      "(28, 28, 1)\n",
      "[[0.72941176 0.99215686 0.99215686 0.58823529 0.10588235]\n",
      " [0.0627451  0.36470588 0.98823529 0.99215686 0.73333333]\n",
      " [0.         0.         0.97647059 0.99215686 0.97647059]\n",
      " [0.50980392 0.71764706 0.99215686 0.99215686 0.81176471]\n",
      " [0.99215686 0.99215686 0.99215686 0.98039216 0.71372549]]\n"
     ]
    }
   ],
   "source": [
    "# Do it by hand\n",
    "test_1 = x_train_mnist[0][:,:,:]\n",
    "print(test_1.shape)\n",
    "test_2 = test_1 ** [1]\n",
    "print(test_2.shape)\n",
    "test_3 = signal.convolve(test_2, np.array([[0,0,0],[0,0,0],[0,0,0]]).reshape(3,3,1), mode = 'same', method = 'direct')\n",
    "print(test_3.shape)\n",
    "test_4 = test_3 + 1.0\n",
    "print(test_4.shape)\n",
    "test_5 = test_4 ** [1]\n",
    "print(test_5.shape)\n",
    "test_6 = test_1 / test_5\n",
    "print(test_6.shape)\n",
    "print(np.matrix(test_6[15:20,15:20]))"
   ]
  },
  {
   "cell_type": "code",
   "execution_count": 17,
   "metadata": {
    "id": "0WJVMwQZKewu"
   },
   "outputs": [
    {
     "name": "stdout",
     "output_type": "stream",
     "text": [
      "[[0.7294118  0.99215686 0.99215686 0.5882353  0.10588235]\n",
      " [0.0627451  0.3647059  0.9882353  0.99215686 0.73333335]\n",
      " [0.         0.         0.9764706  0.99215686 0.9764706 ]\n",
      " [0.50980395 0.7176471  0.99215686 0.99215686 0.8117647 ]\n",
      " [0.99215686 0.99215686 0.99215686 0.98039216 0.7137255 ]]\n"
     ]
    }
   ],
   "source": [
    "# Check the result is the same\n",
    "print(np.matrix(np.array(x_train_mnist_out[0][15:20,15:20,:]).reshape(5,5)))"
   ]
  },
  {
   "cell_type": "code",
   "execution_count": 19,
   "metadata": {
    "id": "uCMCjDTSMTYh"
   },
   "outputs": [
    {
     "data": {
      "image/png": "[encoded data removed]",
      "text/plain": [
       "<Figure size 432x288 with 3 Axes>"
      ]
     },
     "metadata": {
      "needs_background": "light"
     },
     "output_type": "display_data"
    }
   ],
   "source": [
    "# Visualize the model and the handmade results\n",
    "plt.subplot(1,3,1)\n",
    "plt.imshow(test_6.reshape([28,28]), cmap = 'gray', vmin = 0, vmax = 1)\n",
    "plt.axis('off')\n",
    "plt.subplot(1,3,2)\n",
    "plt.imshow(tf.squeeze(x_train_mnist_out[0]), cmap = 'gray', vmin = 0, vmax = 1)\n",
    "plt.axis('off')\n",
    "plt.subplot(1,3,3)\n",
    "plt.imshow(test_6.reshape([28,28])-tf.squeeze(x_train_mnist_out[0]), cmap = 'gray', vmin = 0, vmax = 1)\n",
    "plt.axis('off')\n",
    "plt.show()"
   ]
  },
  {
   "cell_type": "markdown",
   "metadata": {
    "id": "cxUUfUzVMesB"
   },
   "source": [
    "## Fashion MNIST"
   ]
  },
  {
   "cell_type": "code",
   "execution_count": 20,
   "metadata": {
    "id": "yIBSoLDQMdGS"
   },
   "outputs": [],
   "source": [
    "# Download the data and split into train and test\n",
    "(x_train_fmnist, y_train_fmnist), (x_test_fmnist, y_test_fmnist) = fashion_mnist.load_data()"
   ]
  },
  {
   "cell_type": "code",
   "execution_count": 21,
   "metadata": {
    "id": "DRnbIN74NMRN"
   },
   "outputs": [],
   "source": [
    "# Normalize and reshape\n",
    "x_train_fmnist = x_train_fmnist/255.\n",
    "x_test_fmnist = x_test_fmnist/255.\n",
    "\n",
    "x_train_fmnist = x_train_fmnist.reshape(60000, 28, 28, 1)\n",
    "x_test_fmnist = x_test_fmnist.reshape(10000, 28, 28, 1)"
   ]
  },
  {
   "cell_type": "code",
   "execution_count": 22,
   "metadata": {
    "id": "oiP06I7FNYgX"
   },
   "outputs": [
    {
     "name": "stdout",
     "output_type": "stream",
     "text": [
      "Model: \"sequential_1\"\n",
      "_________________________________________________________________\n",
      "Layer (type)                 Output Shape              Param #   \n",
      "=================================================================\n",
      "gdn_1 (GDN)                  (None, 28, 28, 1)         12        \n",
      "=================================================================\n",
      "Total params: 12\n",
      "Trainable params: 12\n",
      "Non-trainable params: 0\n",
      "_________________________________________________________________\n"
     ]
    }
   ],
   "source": [
    "# Model with GDN\n",
    "model_f = Sequential()\n",
    "model_f.add(GDN(input_shape = x_train_fmnist.shape[1:4]))\n",
    "\n",
    "model_f.compile(loss = 'categorical_crossentropy', optimizer = 'Adam', metrics = ['accuracy'])\n",
    "\n",
    "model_f.summary()"
   ]
  },
  {
   "cell_type": "code",
   "execution_count": 23,
   "metadata": {
    "id": "Rwmls2azNdjm"
   },
   "outputs": [
    {
     "name": "stdout",
     "output_type": "stream",
     "text": [
      "(60000, 28, 28, 1)\n"
     ]
    }
   ],
   "source": [
    "# Apply the model\n",
    "x_train_fmnist_out = model_f.predict(x_train_fmnist)\n",
    "print(x_train_fmnist_out.shape)"
   ]
  },
  {
   "cell_type": "code",
   "execution_count": 24,
   "metadata": {
    "id": "9LttEXh0NtBT"
   },
   "outputs": [
    {
     "data": {
      "image/png": "[encoded data removed]",
      "text/plain": [
       "<Figure size 432x288 with 2 Axes>"
      ]
     },
     "metadata": {
      "needs_background": "light"
     },
     "output_type": "display_data"
    }
   ],
   "source": [
    "# Visualize the results\n",
    "plt.subplot(1,2,1)\n",
    "plt.imshow(tf.squeeze(x_train_fmnist[4]), cmap = 'gray', vmin = 0, vmax = 1)\n",
    "plt.axis('off')\n",
    "plt.subplot(1,2,2)\n",
    "plt.imshow(tf.squeeze(x_train_fmnist_out[4]), cmap = 'gray', vmin = 0, vmax = 1)\n",
    "plt.axis('off')\n",
    "plt.show()"
   ]
  },
  {
   "cell_type": "markdown",
   "metadata": {
    "id": "vv5noar1N47F"
   },
   "source": [
    "## Cifar10"
   ]
  },
  {
   "cell_type": "code",
   "execution_count": 25,
   "metadata": {
    "id": "PxmlQ-D3N4nb"
   },
   "outputs": [],
   "source": [
    "# Download the data and divede into train and test\n",
    "(x_train_c10, y_train_c10), (x_test_c10, y_test_c10) = cifar10.load_data()\n",
    "\n",
    "# Normalize, reshape and one hot encoding\n",
    "x_train_c10 = x_train_c10/255.\n",
    "x_test_c10 = x_test_c10/255.\n",
    "\n",
    "x_train_c10, x_val_c10, y_train_c10, y_val_c10 = train_test_split(x_train_c10, y_train_c10, test_size = 0.1)\n",
    "\n",
    "x_train_c10 = x_train_c10.reshape(45000, 32, 32, 3)\n",
    "x_val_c10 = x_val_c10.reshape(5000, 32, 32, 3)\n",
    "x_test_c10 = x_test_c10.reshape(10000, 32, 32, 3)\n",
    "\n",
    "y_train_c10 = to_categorical(y_train_c10)\n",
    "y_val_c10 = to_categorical(y_val_c10)\n",
    "y_test_c10 = to_categorical(y_test_c10)"
   ]
  },
  {
   "cell_type": "code",
   "execution_count": 26,
   "metadata": {
    "colab": {
     "base_uri": "https://localhost:8080/"
    },
    "id": "j2cB2Czfwljk",
    "outputId": "49fa85b5-c5fa-4e6f-96e7-d26fadf6a336"
   },
   "outputs": [
    {
     "name": "stdout",
     "output_type": "stream",
     "text": [
      "(45000, 32, 32, 3) (45000, 10)\n",
      "(5000, 32, 32, 3) (5000, 10)\n",
      "(10000, 32, 32, 3) (10000, 10)\n"
     ]
    }
   ],
   "source": [
    "print(x_train_c10.shape, y_train_c10.shape)\n",
    "print(x_val_c10.shape, y_val_c10.shape)\n",
    "print(x_test_c10.shape, y_test_c10.shape)"
   ]
  },
  {
   "cell_type": "markdown",
   "metadata": {
    "id": "Y9_dfitaHTZ0"
   },
   "source": [
    "### Check weights"
   ]
  },
  {
   "cell_type": "code",
   "execution_count": 31,
   "metadata": {
    "colab": {
     "base_uri": "https://localhost:8080/"
    },
    "id": "QuMcA-LvOZTX",
    "outputId": "24dc6f7c-b49f-4e0f-fd47-bd0bbd3baf7c"
   },
   "outputs": [
    {
     "name": "stdout",
     "output_type": "stream",
     "text": [
      "Model: \"sequential_3\"\n",
      "_________________________________________________________________\n",
      "Layer (type)                 Output Shape              Param #   \n",
      "=================================================================\n",
      "gdn_4 (GDN)                  (None, 32, 32, 3)         90        \n",
      "_________________________________________________________________\n",
      "conv2d_2 (Conv2D)            (None, 30, 30, 32)        896       \n",
      "_________________________________________________________________\n",
      "average_pooling2d_2 (Average (None, 15, 15, 32)        0         \n",
      "_________________________________________________________________\n",
      "gdn_5 (GDN)                  (None, 15, 15, 32)        9312      \n",
      "_________________________________________________________________\n",
      "conv2d_3 (Conv2D)            (None, 13, 13, 32)        9248      \n",
      "_________________________________________________________________\n",
      "average_pooling2d_3 (Average (None, 6, 6, 32)          0         \n",
      "_________________________________________________________________\n",
      "flatten_1 (Flatten)          (None, 1152)              0         \n",
      "_________________________________________________________________\n",
      "dense_1 (Dense)              (None, 10)                11530     \n",
      "_________________________________________________________________\n",
      "softmax_1 (Softmax)          (None, 10)                0         \n",
      "=================================================================\n",
      "Total params: 31,076\n",
      "Trainable params: 31,076\n",
      "Non-trainable params: 0\n",
      "_________________________________________________________________\n"
     ]
    }
   ],
   "source": [
    "# Define model with GDN\n",
    "model1 = Sequential()\n",
    "model1.add(GDN(input_shape = x_train_c10.shape[1:4]))\n",
    "model1.add(Conv2D(32, 3, input_shape = x_train_c10.shape[1:4]))\n",
    "model1.add(AveragePooling2D())\n",
    "model1.add(GDN())\n",
    "model1.add(Conv2D(32, 3))\n",
    "model1.add(AveragePooling2D())\n",
    "model1.add(Flatten())\n",
    "model1.add(Dense(10))\n",
    "model1.add(Softmax())\n",
    "\n",
    "model1.compile(loss = 'categorical_crossentropy', optimizer = 'Adam', metrics = ['accuracy'])\n",
    "\n",
    "model1.summary()"
   ]
  },
  {
   "cell_type": "code",
   "execution_count": 32,
   "metadata": {
    "colab": {
     "base_uri": "https://localhost:8080/"
    },
    "id": "OnQ6583FOgMx",
    "outputId": "a017df76-9951-481f-8ef8-f374e6a56a63"
   },
   "outputs": [
    {
     "data": {
      "text/plain": [
       "[array([1., 1., 1.], dtype=float32),\n",
       " array([1., 1., 1.], dtype=float32),\n",
       " array([1., 1., 1.], dtype=float32),\n",
       " array([[[[0., 0., 0.],\n",
       "          [0., 0., 0.],\n",
       "          [0., 0., 0.]],\n",
       " \n",
       "         [[0., 0., 0.],\n",
       "          [0., 0., 0.],\n",
       "          [0., 0., 0.]],\n",
       " \n",
       "         [[0., 0., 0.],\n",
       "          [0., 0., 0.],\n",
       "          [0., 0., 0.]]],\n",
       " \n",
       " \n",
       "        [[[0., 0., 0.],\n",
       "          [0., 0., 0.],\n",
       "          [0., 0., 0.]],\n",
       " \n",
       "         [[0., 0., 0.],\n",
       "          [0., 0., 0.],\n",
       "          [0., 0., 0.]],\n",
       " \n",
       "         [[0., 0., 0.],\n",
       "          [0., 0., 0.],\n",
       "          [0., 0., 0.]]],\n",
       " \n",
       " \n",
       "        [[[0., 0., 0.],\n",
       "          [0., 0., 0.],\n",
       "          [0., 0., 0.]],\n",
       " \n",
       "         [[0., 0., 0.],\n",
       "          [0., 0., 0.],\n",
       "          [0., 0., 0.]],\n",
       " \n",
       "         [[0., 0., 0.],\n",
       "          [0., 0., 0.],\n",
       "          [0., 0., 0.]]]], dtype=float32)]"
      ]
     },
     "execution_count": 32,
     "metadata": {},
     "output_type": "execute_result"
    }
   ],
   "source": [
    "# Check weights\n",
    "pesos_model1 = model1.get_weights()\n",
    "pesos_model1[:4]"
   ]
  },
  {
   "cell_type": "code",
   "execution_count": 33,
   "metadata": {
    "colab": {
     "base_uri": "https://localhost:8080/"
    },
    "id": "bRETIXt8Oq6l",
    "outputId": "02036206-8327-4125-9584-9bbd5daa533b"
   },
   "outputs": [
    {
     "name": "stdout",
     "output_type": "stream",
     "text": [
      "Epoch 1/2\n",
      "1407/1407 [==============================] - 10s 7ms/step - loss: 1.7546 - accuracy: 0.3793\n",
      "Epoch 2/2\n",
      "1407/1407 [==============================] - 9s 6ms/step - loss: 1.4999 - accuracy: 0.4667\n"
     ]
    },
    {
     "data": {
      "text/plain": [
       "<tensorflow.python.keras.callbacks.History at 0x2603fbfa400>"
      ]
     },
     "execution_count": 33,
     "metadata": {},
     "output_type": "execute_result"
    }
   ],
   "source": [
    "# Train the model\n",
    "model1.fit(x_train_c10, y_train_c10, epochs = 2, batch_size = 32)"
   ]
  },
  {
   "cell_type": "code",
   "execution_count": 34,
   "metadata": {
    "colab": {
     "base_uri": "https://localhost:8080/"
    },
    "id": "hc58jRhpOvua",
    "outputId": "96b366c8-0c76-440e-c3d9-f581d4a257e5"
   },
   "outputs": [
    {
     "data": {
      "text/plain": [
       "[array([0.94617003, 0.98173374, 0.974454  ], dtype=float32),\n",
       " array([1.2997419, 1.2774343, 1.1945586], dtype=float32),\n",
       " array([0.8562965 , 1.0128518 , 0.28593332], dtype=float32),\n",
       " array([[[[-0.0000000e+00,  3.6520358e-02,  1.6068681e-03],\n",
       "          [ 1.9575197e-03,  2.8144123e-03,  1.3360444e-03],\n",
       "          [ 9.8725464e-03,  5.1136658e-02,  2.9707950e-04]],\n",
       " \n",
       "         [[-0.0000000e+00,  4.2612419e-02,  1.3061567e-03],\n",
       "          [ 1.4197965e-03,  3.2009808e-03,  9.6749514e-04],\n",
       "          [ 2.9929378e-03,  6.1169859e-02,  1.7751211e-04]],\n",
       " \n",
       "         [[-0.0000000e+00,  3.4530032e-02,  5.1405432e-04],\n",
       "          [ 2.2236940e-03,  3.3830772e-03,  4.4870639e-04],\n",
       "          [ 5.1003653e-03,  5.1244471e-02,  1.1800362e-04]]],\n",
       " \n",
       " \n",
       "        [[[-0.0000000e+00,  4.6543427e-02,  3.8826608e-04],\n",
       "          [ 1.0697740e-03,  2.7771334e-03,  3.4171017e-04],\n",
       "          [ 1.9156184e-02,  6.3725233e-02,  4.0181141e-05]],\n",
       " \n",
       "         [[-0.0000000e+00,  5.1363636e-02,  2.7924904e-04],\n",
       "          [ 3.7362488e-04,  8.3487490e-03,  2.4586468e-04],\n",
       "          [ 1.9945626e-03,  7.3946759e-02, -0.0000000e+00]],\n",
       " \n",
       "         [[-0.0000000e+00,  4.4887763e-02,  1.8426703e-04],\n",
       "          [ 1.3286019e-03,  3.1215777e-03,  1.7884176e-04],\n",
       "          [ 2.3210324e-02,  6.4972259e-02, -0.0000000e+00]]],\n",
       " \n",
       " \n",
       "        [[[-0.0000000e+00,  3.6254670e-02,  5.2818167e-04],\n",
       "          [ 1.7999674e-03,  2.8337352e-03,  5.2693475e-04],\n",
       "          [ 2.2194872e-02,  5.6392852e-02,  2.3467670e-04]],\n",
       " \n",
       "         [[-0.0000000e+00,  4.0950764e-02,  3.7756603e-04],\n",
       "          [ 1.2616488e-03,  2.9363886e-03,  4.0312443e-04],\n",
       "          [ 1.0405766e-02,  6.6247046e-02,  1.1474993e-04]],\n",
       " \n",
       "         [[-0.0000000e+00,  3.3364218e-02,  2.8105953e-04],\n",
       "          [ 3.0916044e-03,  3.0854095e-03,  3.2973717e-04],\n",
       "          [ 3.6228016e-02,  5.6938551e-02,  5.1364346e-05]]]],\n",
       "       dtype=float32)]"
      ]
     },
     "execution_count": 34,
     "metadata": {},
     "output_type": "execute_result"
    }
   ],
   "source": [
    "# Check the weights have changed\n",
    "pesos_model1_out = model1.get_weights()\n",
    "pesos_model1_out[:4]"
   ]
  }
 ],
 "metadata": {
  "accelerator": "GPU",
  "colab": {
   "collapsed_sections": [
    "TFjHPOUJG_7B",
    "cxUUfUzVMesB",
    "Y9_dfitaHTZ0"
   ],
   "name": "GDN layer.ipynb",
   "provenance": []
  },
  "kernelspec": {
   "display_name": "Python 3 (ipykernel)",
   "language": "python",
   "name": "python3"
  },
  "language_info": {
   "codemirror_mode": {
    "name": "ipython",
    "version": 3
   },
   "file_extension": ".py",
   "mimetype": "text/x-python",
   "name": "python",
   "nbconvert_exporter": "python",
   "pygments_lexer": "ipython3",
   "version": "3.9.7"
  }
 },
 "nbformat": 4,
 "nbformat_minor": 1
}
