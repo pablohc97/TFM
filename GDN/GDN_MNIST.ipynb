{
 "cells": [
  {
   "cell_type": "markdown",
   "id": "abb73b94",
   "metadata": {},
   "source": [
    "# Libreries"
   ]
  },
  {
   "cell_type": "code",
   "execution_count": 3,
   "id": "ade7b20b",
   "metadata": {},
   "outputs": [],
   "source": [
    "import tensorflow as tf\n",
    "from tensorflow.keras.datasets import mnist, fashion_mnist\n",
    "from tensorflow.keras.layers import Conv2D, AveragePooling2D, Flatten, Dense, Softmax, ReLU\n",
    "from tensorflow.keras.utils import to_categorical\n",
    "from tensorflow.keras.models import Sequential\n",
    "from tensorflow.keras.optimizers import Adam\n",
    "import matplotlib.pyplot as plt\n",
    "import numpy as np\n",
    "from scipy import ndimage\n",
    "from scipy import signal\n",
    "from GDN_function import GDN"
   ]
  },
  {
   "cell_type": "markdown",
   "id": "6a2b092e",
   "metadata": {},
   "source": [
    "# Load and prepare the data"
   ]
  },
  {
   "cell_type": "code",
   "execution_count": 17,
   "id": "4e54d25f",
   "metadata": {},
   "outputs": [],
   "source": [
    "(x_train_mnist, y_train_mnist), (x_test_mnist, y_test_mnist) = mnist.load_data()\n",
    "(x_train_fas_mnist, y_train_fas_mnist), (x_test_fas_mnist, y_test_fas_mnist) = fashion_mnist.load_data()"
   ]
  },
  {
   "cell_type": "code",
   "execution_count": 19,
   "id": "1e807f00",
   "metadata": {},
   "outputs": [],
   "source": [
    "x_train_mnist = x_train_mnist/255.0\n",
    "x_test_mnist = x_test_mnist/255.0\n",
    "x_train_fas_mnist = x_train_fas_mnist/255.0\n",
    "x_test_fas_mnist = x_test_fas_mnist/255.0\n",
    "\n",
    "x_train_mnist = x_train_mnist.reshape((60000, 28, 28, 1))\n",
    "x_test_mnist = x_test_mnist.reshape((10000, 28, 28, 1))\n",
    "x_train_fas_mnist = x_train_fas_mnist.reshape((60000, 28, 28, 1))\n",
    "x_test_fas_mnist = x_test_fas_mnist.reshape((10000, 28, 28, 1))"
   ]
  },
  {
   "cell_type": "markdown",
   "id": "89e99e23",
   "metadata": {},
   "source": [
    "# MNIST\n",
    "\n",
    "## Check initial weights"
   ]
  },
  {
   "cell_type": "code",
   "execution_count": 25,
   "id": "0a7175f6",
   "metadata": {},
   "outputs": [
    {
     "name": "stdout",
     "output_type": "stream",
     "text": [
      "Model: \"sequential_3\"\n",
      "_________________________________________________________________\n",
      "Layer (type)                 Output Shape              Param #   \n",
      "=================================================================\n",
      "gdn_2 (GDN)                  (None, 28, 28, 1)         12        \n",
      "=================================================================\n",
      "Total params: 12\n",
      "Trainable params: 12\n",
      "Non-trainable params: 0\n",
      "_________________________________________________________________\n"
     ]
    }
   ],
   "source": [
    "# Model with only a GDN layer\n",
    "\n",
    "model = Sequential()\n",
    "model.add(GDN(input_shape = x_train_mnist.shape[1:4]))\n",
    "model.compile(loss = 'categorical_crossentropy', optimizer = 'Adam', metrics = ['accuracy'])\n",
    "model.summary()"
   ]
  },
  {
   "cell_type": "code",
   "execution_count": 26,
   "id": "d18155a4",
   "metadata": {},
   "outputs": [
    {
     "data": {
      "text/plain": [
       "[array([0.001], dtype=float32),\n",
       " array([2.], dtype=float32),\n",
       " array([0.5], dtype=float32),\n",
       " array([[[[1.]],\n",
       " \n",
       "         [[1.]],\n",
       " \n",
       "         [[1.]]],\n",
       " \n",
       " \n",
       "        [[[1.]],\n",
       " \n",
       "         [[1.]],\n",
       " \n",
       "         [[1.]]],\n",
       " \n",
       " \n",
       "        [[[1.]],\n",
       " \n",
       "         [[1.]],\n",
       " \n",
       "         [[1.]]]], dtype=float32)]"
      ]
     },
     "execution_count": 26,
     "metadata": {},
     "output_type": "execute_result"
    }
   ],
   "source": [
    "# Check model weights\n",
    "model.get_weights()"
   ]
  },
  {
   "cell_type": "markdown",
   "id": "9c94bb9f",
   "metadata": {},
   "source": [
    "## Output without training"
   ]
  },
  {
   "cell_type": "code",
   "execution_count": 27,
   "id": "6381e4ae",
   "metadata": {},
   "outputs": [
    {
     "name": "stdout",
     "output_type": "stream",
     "text": [
      "(60000, 28, 28, 1)\n"
     ]
    }
   ],
   "source": [
    "# Apply the model without training\n",
    "x_train_mnist_out = model.apply(x_train_mnist)\n",
    "print(x_train_mnist_out.shape)"
   ]
  },
  {
   "cell_type": "code",
   "execution_count": 28,
   "id": "25a6f821",
   "metadata": {},
   "outputs": [
    {
     "name": "stdout",
     "output_type": "stream",
     "text": [
      "0.5272389\n"
     ]
    }
   ],
   "source": [
    "print(np.max(x_train_mnist_out[0]))"
   ]
  },
  {
   "cell_type": "code",
   "execution_count": 29,
   "id": "dcdb7e05",
   "metadata": {},
   "outputs": [
    {
     "data": {
      "image/png": "[encoded data removed]",
      "text/plain": [
       "<Figure size 432x288 with 1 Axes>"
      ]
     },
     "metadata": {
      "needs_background": "light"
     },
     "output_type": "display_data"
    },
    {
     "data": {
      "image/png": "[encoded data removed]",
      "text/plain": [
       "<Figure size 432x288 with 1 Axes>"
      ]
     },
     "metadata": {
      "needs_background": "light"
     },
     "output_type": "display_data"
    }
   ],
   "source": [
    "# Visualize model results\n",
    "plt.imshow(x_train_mnist[0], cmap = 'gray', vmin = 0, vmax = 1)\n",
    "plt.axis('off')\n",
    "plt.show()\n",
    "plt.imshow(x_train_mnist_out[0], cmap = 'gray', vmin = 0, vmax = 1)\n",
    "plt.axis('off')\n",
    "plt.show()"
   ]
  },
  {
   "cell_type": "markdown",
   "id": "7664815b",
   "metadata": {},
   "source": [
    "### Compare with scipy"
   ]
  },
  {
   "cell_type": "code",
   "execution_count": 30,
   "id": "54e7ba02",
   "metadata": {},
   "outputs": [
    {
     "name": "stdout",
     "output_type": "stream",
     "text": [
      "[[0.72941176 0.99215686 0.99215686 0.58823529 0.10588235]\n",
      " [0.0627451  0.36470588 0.98823529 0.99215686 0.73333333]\n",
      " [0.         0.         0.97647059 0.99215686 0.97647059]\n",
      " [0.50980392 0.71764706 0.99215686 0.99215686 0.81176471]\n",
      " [0.99215686 0.99215686 0.99215686 0.98039216 0.71372549]] (28, 28, 1)\n",
      "[[0.53204152 0.98437524 0.98437524 0.34602076 0.01121107]\n",
      " [0.00393695 0.13301038 0.976609   0.98437524 0.53777778]\n",
      " [0.         0.         0.95349481 0.98437524 0.95349481]\n",
      " [0.25990004 0.5150173  0.98437524 0.98437524 0.65896194]\n",
      " [0.98437524 0.98437524 0.98437524 0.96116878 0.50940408]] (28, 28, 1)\n",
      "[[4.53906959 5.80087659 5.62053057 4.06775855 1.88899654]\n",
      " [1.68450596 4.56784314 6.34663591 6.73173395 3.88024606]\n",
      " [0.944406   3.82634371 6.51563245 8.01783929 5.16641292]\n",
      " [3.58268358 5.66591311 7.35155709 7.97402537 5.11483276]\n",
      " [6.5358093  7.30248366 7.11294118 5.79753941 3.20753556]] (28, 28, 1)\n",
      "[[4.54006959 5.80187659 5.62153057 4.06875855 1.88999654]\n",
      " [1.68550596 4.56884314 6.34763591 6.73273395 3.88124606]\n",
      " [0.945406   3.82734371 6.51663245 8.01883929 5.16741292]\n",
      " [3.58368358 5.66691311 7.35255709 7.97502537 5.11583276]\n",
      " [6.5368093  7.30348366 7.11394118 5.79853941 3.20853556]] (28, 28, 1)\n",
      "[[2.1307439  2.40870849 2.37097671 2.0171164  1.37477145]\n",
      " [1.29827037 2.13748524 2.51945151 2.59475123 1.97008783]\n",
      " [0.97231991 1.95635981 2.55276956 2.83175551 2.27319443]\n",
      " [1.89306196 2.38052791 2.7115599  2.82400874 2.26182067]\n",
      " [2.55671846 2.70249582 2.66719725 2.40801566 1.79123856]] (28, 28, 1)\n",
      "[[0.34232728 0.41190408 0.41845913 0.29162189 0.07701815]\n",
      " [0.04832976 0.17062381 0.39224224 0.38237071 0.37223383]\n",
      " [0.         0.         0.38251419 0.35036812 0.42955876]\n",
      " [0.26930123 0.30146551 0.36589893 0.35132925 0.35889879]\n",
      " [0.38805871 0.36712614 0.37198481 0.40713695 0.39845362]] (28, 28, 1)\n"
     ]
    }
   ],
   "source": [
    "# Do it by hand\n",
    "test_1 = x_train_mnist[0][:,:,:]\n",
    "print(np.matrix(test_1[15:20,15:20]), test_1.shape)\n",
    "test_2 = test_1 ** [2]\n",
    "print(np.matrix(test_2[15:20,15:20]), test_2.shape)\n",
    "test_3 = signal.convolve(test_2, np.array([[1,1,1],[1,1,1],[1,1,1]]).reshape(3,3,1), mode = 'same', method = 'direct')\n",
    "print(np.matrix(test_3[15:20,15:20]), test_3.shape)\n",
    "test_4 = test_3 + 0.001\n",
    "print(np.matrix(test_4[15:20,15:20]), test_4.shape)\n",
    "test_5 = test_4 ** [0.5]\n",
    "print(np.matrix(test_5[15:20,15:20]), test_5.shape)\n",
    "test_6 = test_1 / test_5\n",
    "print(np.matrix(test_6[15:20,15:20]), test_6.shape)"
   ]
  },
  {
   "cell_type": "code",
   "execution_count": 31,
   "id": "08851c1a",
   "metadata": {},
   "outputs": [
    {
     "name": "stdout",
     "output_type": "stream",
     "text": [
      "[[0.34232727 0.4119041  0.41845915 0.2916219  0.07701815]\n",
      " [0.04832977 0.17062384 0.39224225 0.3823707  0.37223384]\n",
      " [0.         0.         0.38251418 0.3503681  0.42955878]\n",
      " [0.26930127 0.30146554 0.36589894 0.3513292  0.35889882]\n",
      " [0.38805872 0.36712614 0.37198478 0.40713695 0.39845362]]\n"
     ]
    }
   ],
   "source": [
    "# Check the result is the same\n",
    "print(np.matrix(np.array(x_train_mnist_out[0][15:20,15:20,:]).reshape(5,5)))"
   ]
  },
  {
   "cell_type": "code",
   "execution_count": 32,
   "id": "8758de1c",
   "metadata": {},
   "outputs": [
    {
     "data": {
      "image/png": "[encoded data removed]",
      "text/plain": [
       "<Figure size 432x288 with 1 Axes>"
      ]
     },
     "metadata": {
      "needs_background": "light"
     },
     "output_type": "display_data"
    },
    {
     "data": {
      "image/png": "[encoded data removed]",
      "text/plain": [
       "<Figure size 432x288 with 1 Axes>"
      ]
     },
     "metadata": {
      "needs_background": "light"
     },
     "output_type": "display_data"
    },
    {
     "data": {
      "image/png": "[encoded data removed]",
      "text/plain": [
       "<Figure size 432x288 with 1 Axes>"
      ]
     },
     "metadata": {
      "needs_background": "light"
     },
     "output_type": "display_data"
    }
   ],
   "source": [
    "# Visualize the model and the handmade results\n",
    "plt.imshow(test_6.reshape([28,28]), cmap = 'gray', vmin = 0, vmax = 1)\n",
    "plt.axis('off')\n",
    "plt.show()\n",
    "plt.imshow(tf.squeeze(x_train_mnist_out[0]), cmap = 'gray', vmin = 0, vmax = 1)\n",
    "plt.axis('off')\n",
    "plt.show()\n",
    "plt.imshow(test_6.reshape([28,28])-tf.squeeze(x_train_mnist_out[0]), cmap = 'gray', vmin = 0, vmax = 1)\n",
    "plt.axis('off')\n",
    "plt.show()"
   ]
  },
  {
   "cell_type": "markdown",
   "id": "84938eea",
   "metadata": {},
   "source": [
    "# Fashion MNIST"
   ]
  },
  {
   "cell_type": "code",
   "execution_count": 34,
   "id": "79b5f012",
   "metadata": {},
   "outputs": [
    {
     "name": "stdout",
     "output_type": "stream",
     "text": [
      "Model: \"sequential_5\"\n",
      "_________________________________________________________________\n",
      "Layer (type)                 Output Shape              Param #   \n",
      "=================================================================\n",
      "gdn_3 (GDN)                  (None, 28, 28, 1)         12        \n",
      "=================================================================\n",
      "Total params: 12\n",
      "Trainable params: 12\n",
      "Non-trainable params: 0\n",
      "_________________________________________________________________\n"
     ]
    }
   ],
   "source": [
    "# Model with GDN\n",
    "model_f = Sequential()\n",
    "model_f.add(GDN(input_shape = x_train_fas_mnist.shape[1:4]))\n",
    "model_f.compile(loss = 'categorical_crossentropy', optimizer = 'Adam', metrics = ['accuracy'])\n",
    "model_f.summary()"
   ]
  },
  {
   "cell_type": "code",
   "execution_count": 36,
   "id": "1bb3fff9",
   "metadata": {},
   "outputs": [
    {
     "name": "stdout",
     "output_type": "stream",
     "text": [
      "(60000, 28, 28, 1)\n"
     ]
    }
   ],
   "source": [
    "# Apply the model\n",
    "x_train_fas_mnist_out = model_f.apply(x_train_fas_mnist)\n",
    "print(x_train_fas_mnist_out.shape)"
   ]
  },
  {
   "cell_type": "code",
   "execution_count": 38,
   "id": "06fcb351",
   "metadata": {},
   "outputs": [
    {
     "data": {
      "image/png": "[encoded data removed]",
      "text/plain": [
       "<Figure size 432x288 with 1 Axes>"
      ]
     },
     "metadata": {
      "needs_background": "light"
     },
     "output_type": "display_data"
    },
    {
     "data": {
      "image/png": "[encoded data removed]",
      "text/plain": [
       "<Figure size 432x288 with 1 Axes>"
      ]
     },
     "metadata": {
      "needs_background": "light"
     },
     "output_type": "display_data"
    }
   ],
   "source": [
    "# Visualize the results\n",
    "plt.imshow(x_train_fas_mnist[4], cmap = 'gray', vmin = 0, vmax = 1)\n",
    "plt.axis('off')\n",
    "plt.show()\n",
    "plt.imshow(tf.squeeze(x_train_fas_mnist_out[4]), cmap = 'gray', vmin = 0, vmax = 1)\n",
    "plt.axis('off')\n",
    "plt.show()"
   ]
  }
 ],
 "metadata": {
  "kernelspec": {
   "display_name": "Python 3 (ipykernel)",
   "language": "python",
   "name": "python3"
  },
  "language_info": {
   "codemirror_mode": {
    "name": "ipython",
    "version": 3
   },
   "file_extension": ".py",
   "mimetype": "text/x-python",
   "name": "python",
   "nbconvert_exporter": "python",
   "pygments_lexer": "ipython3",
   "version": "3.9.7"
  }
 },
 "nbformat": 4,
 "nbformat_minor": 5
}
